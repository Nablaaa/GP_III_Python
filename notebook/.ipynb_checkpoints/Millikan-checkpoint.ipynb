{
 "cells": [
  {
   "cell_type": "code",
   "execution_count": 2,
   "metadata": {},
   "outputs": [],
   "source": [
    "import numpy as np\n",
    "from sympy import *\n",
    "import gauss as g\n",
    "init_printing()"
   ]
  },
  {
   "cell_type": "markdown",
   "metadata": {},
   "source": [
    "# B\n",
    "<hr>"
   ]
  },
  {
   "cell_type": "markdown",
   "metadata": {},
   "source": [
    "### Rohe Daten"
   ]
  },
  {
   "cell_type": "markdown",
   "metadata": {},
   "source": [
    "### Fehlerrechnung"
   ]
  },
  {
   "cell_type": "code",
   "execution_count": 4,
   "metadata": {},
   "outputs": [],
   "source": [
    "variables = ['T']\n",
    "var_str = \" \".join(variables)\n",
    "exec(\", \".join(variables) + \"= symbols(var_str)\")"
   ]
  },
  {
   "cell_type": "code",
   "execution_count": 7,
   "metadata": {},
   "outputs": [
    {
     "data": {
      "image/png": "[encoded data removed]",
      "text/latex": [
       "$\\displaystyle 2.7 \\cdot 10^{-6} T + 0.0005629$"
      ],
      "text/plain": [
       "2.7e-6⋅T + 0.0005629"
      ]
     },
     "metadata": {},
     "output_type": "display_data"
    }
   ],
   "source": [
    "funktion = (6.25 + 0.027 * (T - 23)) * 10e-5\n",
    "display(funktion)"
   ]
  },
  {
   "cell_type": "code",
   "execution_count": 12,
   "metadata": {},
   "outputs": [],
   "source": [
    "variable_values = [22.8]"
   ]
  },
  {
   "cell_type": "code",
   "execution_count": 13,
   "metadata": {},
   "outputs": [],
   "source": [
    "variable_errors = [0.1]"
   ]
  },
  {
   "cell_type": "code",
   "execution_count": 14,
   "metadata": {},
   "outputs": [],
   "source": [
    "unit = \"Torr * m\""
   ]
  },
  {
   "cell_type": "code",
   "execution_count": 15,
   "metadata": {
    "scrolled": true
   },
   "outputs": [
    {
     "name": "stdout",
     "output_type": "stream",
     "text": [
      "############Gaußsche Fehlerfortpflanzung###############\n",
      " \n",
      "Variable: T, Wert: 22.8, Fehler: 0.1\n",
      " \n",
      "Funktion:\n"
     ]
    },
    {
     "data": {
      "image/png": "[encoded data removed]",
      "text/latex": [
       "$\\displaystyle 2.7 \\cdot 10^{-6} T + 0.0005629$"
      ],
      "text/plain": [
       "2.7e-6⋅T + 0.0005629"
      ]
     },
     "metadata": {},
     "output_type": "display_data"
    },
    {
     "name": "stdout",
     "output_type": "stream",
     "text": [
      "Fehlerfunktion:\n"
     ]
    },
    {
     "data": {
      "image/png": "[encoded data removed]",
      "text/latex": [
       "$\\displaystyle 2.7 \\cdot 10^{-7}$"
      ],
      "text/plain": [
       "2.70000000000000e-7"
      ]
     },
     "metadata": {},
     "output_type": "display_data"
    },
    {
     "name": "stdout",
     "output_type": "stream",
     "text": [
      " \n",
      "Ergebnis: 0.000624460000000000 Torr * m\n",
      " \n",
      "Fehler: 2.70000000000000E-7 Torr * m\n"
     ]
    }
   ],
   "source": [
    "g.gesammte_auswertung(funktion, variables, variable_values, variable_errors, unit=unit)"
   ]
  },
  {
   "cell_type": "markdown",
   "metadata": {},
   "source": [
    "# Air Pressure\n",
    "<hr>"
   ]
  },
  {
   "cell_type": "markdown",
   "metadata": {},
   "source": [
    "### Rohe Daten"
   ]
  },
  {
   "cell_type": "markdown",
   "metadata": {},
   "source": [
    "### Fehlerrechnung"
   ]
  },
  {
   "cell_type": "code",
   "execution_count": 20,
   "metadata": {},
   "outputs": [],
   "source": [
    "variables = ['l', 'h', 'T']\n",
    "var_str = \" \".join(variables)\n",
    "exec(\", \".join(variables) + \"= symbols(var_str)\")"
   ]
  },
  {
   "cell_type": "code",
   "execution_count": 21,
   "metadata": {},
   "outputs": [
    {
     "data": {
      "image/png": "[encoded data removed]",
      "text/latex": [
       "$\\displaystyle \\left(1 - 2.0 \\cdot 10^{-7} h\\right) \\left(- 0.5998799925 T + 133.306665 l \\left(1 - 0.00016 T\\right) + 11.99759985\\right)$"
      ],
      "text/plain": [
       "(1 - 2.0e-7⋅h)⋅(-0.5998799925⋅T + 133.306665⋅l⋅(1 - 0.00016⋅T) + 11.99759985)"
      ]
     },
     "metadata": {},
     "output_type": "display_data"
    }
   ],
   "source": [
    "funktion = 1.00005 * (133.3 * ((1 - 1.6e-4 * T) * l - 4.5e-3 * (T - 20))) * (1 - 2e-7 * h)\n",
    "display(funktion)"
   ]
  },
  {
   "cell_type": "code",
   "execution_count": 22,
   "metadata": {},
   "outputs": [],
   "source": [
    "variable_values = [744.1, 147, 22.8] # l in mmm h in m"
   ]
  },
  {
   "cell_type": "code",
   "execution_count": 23,
   "metadata": {},
   "outputs": [],
   "source": [
    "variable_errors = [0.0577, 5, 0.1]"
   ]
  },
  {
   "cell_type": "code",
   "execution_count": 24,
   "metadata": {},
   "outputs": [],
   "source": [
    "unit = \"Pa\""
   ]
  },
  {
   "cell_type": "code",
   "execution_count": 25,
   "metadata": {
    "scrolled": false
   },
   "outputs": [
    {
     "name": "stdout",
     "output_type": "stream",
     "text": [
      "############Gaußsche Fehlerfortpflanzung###############\n",
      " \n",
      "Variable: l, Wert: 744.1, Fehler: 0.0577\n",
      "Variable: h, Wert: 147, Fehler: 5\n",
      "Variable: T, Wert: 22.8, Fehler: 0.1\n",
      " \n",
      "Funktion:\n"
     ]
    },
    {
     "data": {
      "image/png": "[encoded data removed]",
      "text/latex": [
       "$\\displaystyle \\left(1 - 2.0 \\cdot 10^{-7} h\\right) \\left(- 0.5998799925 T + 133.306665 l \\left(1 - 0.00016 T\\right) + 11.99759985\\right)$"
      ],
      "text/plain": [
       "(1 - 2.0e-7⋅h)⋅(-0.5998799925⋅T + 133.306665⋅l⋅(1 - 0.00016⋅T) + 11.99759985)"
      ]
     },
     "metadata": {},
     "output_type": "display_data"
    },
    {
     "name": "stdout",
     "output_type": "stream",
     "text": [
      "Fehlerfunktion:\n"
     ]
    },
    {
     "data": {
      "image/png": "[encoded data removed]",
      "text/latex": [
       "$\\displaystyle \\sqrt{0.00332929 \\left(1 - 2.0 \\cdot 10^{-7} h\\right)^{2} \\left(133.306665 - 0.0213290664 T\\right)^{2} + 0.01 \\left(1 - 2.0 \\cdot 10^{-7} h\\right)^{2} \\left(- 0.0213290664 l - 0.5998799925\\right)^{2} + \\left(5.998799925 \\cdot 10^{-7} T - 0.000133306665 l \\left(1 - 0.00016 T\\right) - 1.199759985 \\cdot 10^{-5}\\right)^{2}}$"
      ],
      "text/plain": [
       "   ___________________________________________________________________________\n",
       "  ╱                          2                              2                 \n",
       "╲╱  0.00332929⋅(1 - 2.0e-7⋅h) ⋅(133.306665 - 0.0213290664⋅T)  + 0.01⋅(1 - 2.0e\n",
       "\n",
       "______________________________________________________________________________\n",
       "     2                                 2                                      \n",
       "-7⋅h) ⋅(-0.0213290664⋅l - 0.5998799925)  + (5.998799925e-7⋅T - 0.000133306665⋅\n",
       "\n",
       "_____________________________________\n",
       "                                   2 \n",
       "l⋅(1 - 0.00016⋅T) - 1.199759985e-5)  "
      ]
     },
     "metadata": {},
     "output_type": "display_data"
    },
    {
     "name": "stdout",
     "output_type": "stream",
     "text": [
      " \n",
      "Ergebnis: 98827.0463125069 Pa\n",
      " \n",
      "Fehler: 7.83912445525324 Pa\n"
     ]
    }
   ],
   "source": [
    "g.gesammte_auswertung(funktion, variables, variable_values, variable_errors, unit=unit)"
   ]
  },
  {
   "cell_type": "markdown",
   "metadata": {},
   "source": [
    "# Radius r of Particle\n",
    "<hr>"
   ]
  },
  {
   "cell_type": "markdown",
   "metadata": {},
   "source": [
    "### Rohe Daten"
   ]
  },
  {
   "cell_type": "code",
   "execution_count": 44,
   "metadata": {},
   "outputs": [],
   "source": [
    "grav = 9.81"
   ]
  },
  {
   "cell_type": "markdown",
   "metadata": {},
   "source": [
    "### Fehlerrechnung"
   ]
  },
  {
   "cell_type": "code",
   "execution_count": 45,
   "metadata": {},
   "outputs": [],
   "source": [
    "variables = ['eta', 'p', 'B', 'nu_f', 'rho_oil', 'rho_air']\n",
    "var_str = \" \".join(variables)\n",
    "exec(\", \".join(variables) + \"= symbols(var_str)\")"
   ]
  },
  {
   "cell_type": "code",
   "execution_count": 46,
   "metadata": {},
   "outputs": [
    {
     "data": {
      "image/png": "[encoded data removed]",
      "text/latex": [
       "$\\displaystyle \\frac{- B + 6 \\sqrt{\\frac{\\eta \\nu_{f} p^{2}}{- 19.62 \\rho_{air} + 19.62 \\rho_{oil}}}}{2 p}$"
      ],
      "text/plain": [
       "            __________________________\n",
       "           ╱                2         \n",
       "          ╱          η⋅ν_f⋅p          \n",
       "-B + 6⋅  ╱   ──────────────────────── \n",
       "       ╲╱    -19.62⋅ρₐᵢᵣ + 19.62⋅ρₒᵢₗ \n",
       "──────────────────────────────────────\n",
       "                 2⋅p                  "
      ]
     },
     "metadata": {},
     "output_type": "display_data"
    },
    {
     "data": {
      "image/png": "[encoded data removed]",
      "text/latex": [
       "$\\displaystyle - \\frac{B}{2 p} + \\sqrt{\\frac{B^{2}}{4 p^{2}} + \\frac{9 \\eta \\nu_{f}}{- 19.62 \\rho_{air} + 19.62 \\rho_{oil}}}$"
      ],
      "text/plain": [
       "              _________________________________\n",
       "             ╱   2                             \n",
       "   B        ╱   B             9⋅η⋅ν_f          \n",
       "- ─── +    ╱   ──── + ──────────────────────── \n",
       "  2⋅p     ╱       2   -19.62⋅ρₐᵢᵣ + 19.62⋅ρₒᵢₗ \n",
       "        ╲╱     4⋅p                             "
      ]
     },
     "metadata": {},
     "output_type": "display_data"
    }
   ],
   "source": [
    "funktion = (- B/(2*p)) + sqrt((B/(2*p)) ** 2 + ((9 * eta * nu_f)/(2 * grav * (rho_oil-rho_air))))\n",
    "display(funktion)"
   ]
  },
  {
   "cell_type": "code",
   "execution_count": 78,
   "metadata": {},
   "outputs": [],
   "source": [
    "variable_values = [1.8e-5, 98827, 0.083193, 0.12055e-3, 906, 1.188]"
   ]
  },
  {
   "cell_type": "code",
   "execution_count": 79,
   "metadata": {},
   "outputs": [],
   "source": [
    "variable_errors = [1.1e-9, 8, 3.6e-5, 1.687e-6, 6.1e-2, 0.000434]"
   ]
  },
  {
   "cell_type": "code",
   "execution_count": 80,
   "metadata": {},
   "outputs": [],
   "source": [
    "unit=\"m\""
   ]
  },
  {
   "cell_type": "code",
   "execution_count": 81,
   "metadata": {
    "scrolled": true
   },
   "outputs": [
    {
     "name": "stdout",
     "output_type": "stream",
     "text": [
      "############Gaußsche Fehlerfortpflanzung###############\n",
      " \n",
      "Variable: eta, Wert: 1.8e-05, Fehler: 1.1e-09\n",
      "Variable: p, Wert: 98827, Fehler: 8\n",
      "Variable: B, Wert: 0.083193, Fehler: 3.6e-05\n",
      "Variable: nu_f, Wert: 0.00012055, Fehler: 1.687e-06\n",
      "Variable: rho_oil, Wert: 906, Fehler: 0.061\n",
      "Variable: rho_air, Wert: 1.188, Fehler: 0.000434\n",
      " \n",
      "Funktion:\n"
     ]
    },
    {
     "data": {
      "image/png": "[encoded data removed]",
      "text/latex": [
       "$\\displaystyle - \\frac{B}{2 p} + \\sqrt{\\frac{B^{2}}{4 p^{2}} + \\frac{9 \\eta \\nu_{f}}{- 19.62 \\rho_{air} + 19.62 \\rho_{oil}}}$"
      ],
      "text/plain": [
       "              _________________________________\n",
       "             ╱   2                             \n",
       "   B        ╱   B             9⋅η⋅ν_f          \n",
       "- ─── +    ╱   ──── + ──────────────────────── \n",
       "  2⋅p     ╱       2   -19.62⋅ρₐᵢᵣ + 19.62⋅ρₒᵢₗ \n",
       "        ╲╱     4⋅p                             "
      ]
     },
     "metadata": {},
     "output_type": "display_data"
    },
    {
     "name": "stdout",
     "output_type": "stream",
     "text": [
      "Fehlerfunktion:\n"
     ]
    },
    {
     "data": {
      "image/png": "[encoded data removed]",
      "text/latex": [
       "$\\displaystyle \\sqrt{\\frac{29.007125034495 \\eta^{2} \\nu_{f}^{2}}{\\left(- 19.62 \\rho_{air} + 19.62 \\rho_{oil}\\right)^{4} \\left(\\frac{B^{2}}{4 p^{2}} + \\frac{9 \\eta \\nu_{f}}{- 19.62 \\rho_{air} + 19.62 \\rho_{oil}}\\right)} + \\frac{5.763087225 \\cdot 10^{-11} \\eta^{2}}{\\left(- 19.62 \\rho_{air} + 19.62 \\rho_{oil}\\right)^{2} \\left(\\frac{B^{2}}{4 p^{2}} + \\frac{9 \\eta \\nu_{f}}{- 19.62 \\rho_{air} + 19.62 \\rho_{oil}}\\right)} + \\frac{2.45025 \\cdot 10^{-17} \\nu_{f}^{2}}{\\left(- 19.62 \\rho_{air} + 19.62 \\rho_{oil}\\right)^{2} \\left(\\frac{B^{2}}{4 p^{2}} + \\frac{9 \\eta \\nu_{f}}{- 19.62 \\rho_{air} + 19.62 \\rho_{oil}}\\right)} + \\left(\\frac{9.0 \\cdot 10^{-6} B}{p^{2} \\sqrt{\\frac{B^{2}}{4 p^{2}} + \\frac{9 \\eta \\nu_{f}}{- 19.62 \\rho_{air} + 19.62 \\rho_{oil}}}} - \\frac{1.8 \\cdot 10^{-5}}{p}\\right)^{2} + \\left(- \\frac{2 B^{2}}{p^{3} \\sqrt{\\frac{B^{2}}{4 p^{2}} + \\frac{9 \\eta \\nu_{f}}{- 19.62 \\rho_{air} + 19.62 \\rho_{oil}}}} + \\frac{4 B}{p^{2}}\\right)^{2}}$"
      ],
      "text/plain": [
       "           ___________________________________________________________________\n",
       "          ╱                                                                   \n",
       "         ╱                                      2    2                        \n",
       "        ╱                      29.007125034495⋅η ⋅ν_f                         \n",
       "       ╱    ───────────────────────────────────────────────────────────── + ──\n",
       "      ╱                                 ⎛  2                            ⎞     \n",
       "     ╱                                4 ⎜ B             9⋅η⋅ν_f         ⎟     \n",
       "    ╱       (-19.62⋅ρₐᵢᵣ + 19.62⋅ρₒᵢₗ) ⋅⎜──── + ────────────────────────⎟   (-\n",
       "   ╱                                    ⎜   2   -19.62⋅ρₐᵢᵣ + 19.62⋅ρₒᵢₗ⎟     \n",
       "  ╱                                     ⎝4⋅p                            ⎠     \n",
       "╲╱                                                                            \n",
       "\n",
       "______________________________________________________________________________\n",
       "                                                                              \n",
       "                                     2                                        \n",
       "                    5.763087225e-11⋅η                                         \n",
       "─────────────────────────────────────────────────────────── + ────────────────\n",
       "                          ⎛  2                            ⎞                   \n",
       "                        2 ⎜ B             9⋅η⋅ν_f         ⎟                   \n",
       "19.62⋅ρₐᵢᵣ + 19.62⋅ρₒᵢₗ) ⋅⎜──── + ────────────────────────⎟   (-19.62⋅ρₐᵢᵣ + 1\n",
       "                          ⎜   2   -19.62⋅ρₐᵢᵣ + 19.62⋅ρₒᵢₗ⎟                   \n",
       "                          ⎝4⋅p                            ⎠                   \n",
       "                                                                              \n",
       "\n",
       "______________________________________________________________________________\n",
       "                                                                              \n",
       "                      2                                                       \n",
       "       2.45025e-17⋅ν_f                          ⎛                 9.0e-6⋅B    \n",
       "───────────────────────────────────────────── + ⎜─────────────────────────────\n",
       "            ⎛  2                            ⎞   ⎜         ____________________\n",
       "          2 ⎜ B             9⋅η⋅ν_f         ⎟   ⎜        ╱   2                \n",
       "9.62⋅ρₒᵢₗ) ⋅⎜──── + ────────────────────────⎟   ⎜ 2     ╱   B             9⋅η⋅\n",
       "            ⎜   2   -19.62⋅ρₐᵢᵣ + 19.62⋅ρₒᵢₗ⎟   ⎜p ⋅   ╱   ──── + ────────────\n",
       "            ⎝4⋅p                            ⎠   ⎜     ╱       2   -19.62⋅ρₐᵢᵣ \n",
       "                                                ⎝   ╲╱     4⋅p                \n",
       "\n",
       "______________________________________________________________________________\n",
       "                                                                              \n",
       "                       2   ⎛                        2                         \n",
       "                1.8e-5⎞    ⎜                     2⋅B                       4⋅B\n",
       "───────────── - ──────⎟  + ⎜- ────────────────────────────────────────── + ───\n",
       "_____________     p   ⎟    ⎜           _________________________________     2\n",
       "                      ⎟    ⎜          ╱   2                                 p \n",
       "ν_f                   ⎟    ⎜   3     ╱   B             9⋅η⋅ν_f                \n",
       "────────────          ⎟    ⎜  p ⋅   ╱   ──── + ────────────────────────       \n",
       "+ 19.62⋅ρₒᵢₗ          ⎟    ⎜       ╱       2   -19.62⋅ρₐᵢᵣ + 19.62⋅ρₒᵢₗ       \n",
       "                      ⎠    ⎝     ╲╱     4⋅p                                   \n",
       "\n",
       "___\n",
       " 2 \n",
       "⎞  \n",
       "⎟  \n",
       "⎟  \n",
       "⎟  \n",
       "⎟  \n",
       "⎟  \n",
       "⎟  \n",
       "⎟  \n",
       "⎠  "
      ]
     },
     "metadata": {},
     "output_type": "display_data"
    },
    {
     "name": "stdout",
     "output_type": "stream",
     "text": [
      " \n",
      "Ergebnis: 7.09248329854560E-7 m\n",
      " \n",
      "Fehler: 6.81206727268627E-9 m\n"
     ]
    }
   ],
   "source": [
    "g.gesammte_auswertung(funktion1, variables, variable_values, variable_errors, unit=unit)"
   ]
  },
  {
   "cell_type": "markdown",
   "metadata": {},
   "source": [
    "# Charge\n",
    "<hr>"
   ]
  },
  {
   "cell_type": "markdown",
   "metadata": {},
   "source": [
    "### Rohe Daten"
   ]
  },
  {
   "cell_type": "code",
   "execution_count": 14,
   "metadata": {},
   "outputs": [],
   "source": [
    "grav = 9.81"
   ]
  },
  {
   "cell_type": "markdown",
   "metadata": {},
   "source": [
    "### Fehlerrechnung"
   ]
  },
  {
   "cell_type": "code",
   "execution_count": 87,
   "metadata": {},
   "outputs": [],
   "source": [
    "variables = ['eta', 'd', 'U', 'nu_f', 'nu_s', 'rho_oil', 'rho_air', 'B', 'p', 'r']\n",
    "var_str = \" \".join(variables)\n",
    "exec(\", \".join(variables) + \"= symbols(var_str)\")"
   ]
  },
  {
   "cell_type": "code",
   "execution_count": 88,
   "metadata": {},
   "outputs": [
    {
     "data": {
      "image/png": "[encoded data removed]",
      "text/latex": [
       "$\\displaystyle \\frac{56.5486677646163 d \\eta \\sqrt{\\frac{\\eta \\nu_{f}}{- 19.62 \\rho_{air} + 19.62 \\rho_{oil}}} \\left(\\nu_{f} + \\nu_{s}\\right)}{U \\left(\\frac{B}{p r} + 1\\right)^{1.5}}$"
      ],
      "text/plain": [
       "                         __________________________                     -1.5\n",
       "                        ╱          η⋅ν_f                       ⎛ B     ⎞    \n",
       "56.5486677646163⋅d⋅η⋅  ╱  ──────────────────────── ⋅(ν_f + νₛ)⋅⎜─── + 1⎟    \n",
       "                     ╲╱   -19.62⋅ρₐᵢᵣ + 19.62⋅ρₒᵢₗ             ⎝p⋅r    ⎠    \n",
       "────────────────────────────────────────────────────────────────────────────\n",
       "                                     U                                      "
      ]
     },
     "metadata": {},
     "output_type": "display_data"
    }
   ],
   "source": [
    "funktion = (18 * np.pi * eta * d) * (1 / U) * sqrt(eta * nu_f / (2 * grav * (rho_oil - rho_air))) * (nu_f + nu_s) * ((1 + B / (p * r))**(-1.5))\n",
    "display(funktion)"
   ]
  },
  {
   "cell_type": "code",
   "execution_count": 131,
   "metadata": {},
   "outputs": [],
   "source": [
    "variable_values = [1.8e-5, 16.01e-3, 2150, 1.21e-4, 3.47e-4, 906, 1.188, 0.083193, 98827, 0.71e-6]\n",
    "                                    #"
   ]
  },
  {
   "cell_type": "code",
   "execution_count": 132,
   "metadata": {},
   "outputs": [],
   "source": [
    "variable_errors = [1.133e-9, 0.01e-3, 2, 0.00168e-3, 0.005e-3, 6.1e-2, 0.000434, 3.6e-5, 8, 6.81e-9]"
   ]
  },
  {
   "cell_type": "code",
   "execution_count": 133,
   "metadata": {},
   "outputs": [],
   "source": [
    "unit=\"C\""
   ]
  },
  {
   "cell_type": "code",
   "execution_count": 134,
   "metadata": {
    "scrolled": true
   },
   "outputs": [
    {
     "name": "stdout",
     "output_type": "stream",
     "text": [
      "############Gaußsche Fehlerfortpflanzung###############\n",
      " \n",
      "Variable: eta, Wert: 1.8e-05, Fehler: 1.133e-09\n",
      "Variable: d, Wert: 0.01601, Fehler: 1e-05\n",
      "Variable: U, Wert: 2150, Fehler: 2\n",
      "Variable: nu_f, Wert: 0.000121, Fehler: 1.68e-06\n",
      "Variable: nu_s, Wert: 0.000347, Fehler: 5e-06\n",
      "Variable: rho_oil, Wert: 906, Fehler: 0.061\n",
      "Variable: rho_air, Wert: 1.188, Fehler: 0.000434\n",
      "Variable: B, Wert: 0.083193, Fehler: 3.6e-05\n",
      "Variable: p, Wert: 98827, Fehler: 8\n",
      "Variable: r, Wert: 7.1e-07, Fehler: 6.81e-09\n",
      " \n",
      "Funktion:\n"
     ]
    },
    {
     "data": {
      "image/png": "[encoded data removed]",
      "text/latex": [
       "$\\displaystyle \\frac{56.5486677646163 d \\eta \\sqrt{\\frac{\\eta \\nu_{f}}{- 19.62 \\rho_{air} + 19.62 \\rho_{oil}}} \\left(\\nu_{f} + \\nu_{s}\\right)}{U \\left(\\frac{B}{p r} + 1\\right)^{1.5}}$"
      ],
      "text/plain": [
       "                         __________________________                     -1.5\n",
       "                        ╱          η⋅ν_f                       ⎛ B     ⎞    \n",
       "56.5486677646163⋅d⋅η⋅  ╱  ──────────────────────── ⋅(ν_f + νₛ)⋅⎜─── + 1⎟    \n",
       "                     ╲╱   -19.62⋅ρₐᵢᵣ + 19.62⋅ρₒᵢₗ             ⎝p⋅r    ⎠    \n",
       "────────────────────────────────────────────────────────────────────────────\n",
       "                                     U                                      "
      ]
     },
     "metadata": {},
     "output_type": "display_data"
    },
    {
     "name": "stdout",
     "output_type": "stream",
     "text": [
      "Fehlerfunktion:\n"
     ]
    },
    {
     "data": {
      "image/png": "[encoded data removed]",
      "text/latex": [
       "$\\displaystyle \\sqrt{\\frac{3.33673331525048 \\cdot 10^{-13} B^{2} d^{2} \\eta^{3} \\nu_{f} \\left(\\nu_{f} + \\nu_{s}\\right)^{2}}{U^{2} p^{2} r^{4} \\left(- 19.62 \\rho_{air} + 19.62 \\rho_{oil}\\right) \\left(\\frac{B}{p r} + 1\\right)^{5.0}} + \\frac{460476.262937225 B^{2} d^{2} \\eta^{3} \\nu_{f} \\left(\\nu_{f} + \\nu_{s}\\right)^{2}}{U^{2} p^{4} r^{2} \\left(- 19.62 \\rho_{air} + 19.62 \\rho_{oil}\\right) \\left(\\frac{B}{p r} + 1\\right)^{5.0}} + \\left(\\frac{9.50017618445553 \\cdot 10^{-5} d \\eta \\sqrt{\\frac{\\eta \\nu_{f}}{- 19.62 \\rho_{air} + 19.62 \\rho_{oil}}}}{U \\left(\\frac{B}{p r} + 1\\right)^{1.5}} + \\frac{4.75008809222777 \\cdot 10^{-5} d \\eta \\sqrt{\\frac{\\eta \\nu_{f}}{- 19.62 \\rho_{air} + 19.62 \\rho_{oil}}} \\left(\\nu_{f} + \\nu_{s}\\right)}{U \\nu_{f} \\left(\\frac{B}{p r} + 1\\right)^{1.5}}\\right)^{2} + \\frac{1145.1553956136 d^{2} \\eta^{3} \\nu_{f} \\left(\\nu_{f} + \\nu_{s}\\right)^{2}}{U^{2} \\left(- 19.62 \\rho_{air} + 19.62 \\rho_{oil}\\right)^{3} \\left(\\frac{B}{p r} + 1\\right)^{3.0}} + \\frac{7.99437956488238 \\cdot 10^{-8} d^{2} \\eta^{3} \\nu_{f}}{U^{2} \\left(- 19.62 \\rho_{air} + 19.62 \\rho_{oil}\\right) \\left(\\frac{B}{p r} + 1\\right)^{3.0}} + \\frac{9.32464432447881 \\cdot 10^{-6} d^{2} \\eta^{3} \\nu_{f} \\left(\\nu_{f} + \\nu_{s}\\right)^{2}}{U^{2} p^{2} r^{2} \\left(- 19.62 \\rho_{air} + 19.62 \\rho_{oil}\\right) \\left(\\frac{B}{p r} + 1\\right)^{5.0}} + \\frac{9.23606739833787 \\cdot 10^{-15} d^{2} \\eta \\nu_{f} \\left(\\nu_{f} + \\nu_{s}\\right)^{2}}{U^{2} \\left(- 19.62 \\rho_{air} + 19.62 \\rho_{oil}\\right) \\left(\\frac{B}{p r} + 1\\right)^{3.0}} + \\frac{3.19775182595295 \\cdot 10^{-7} \\eta^{3} \\nu_{f} \\left(\\nu_{f} + \\nu_{s}\\right)^{2}}{U^{2} \\left(- 19.62 \\rho_{air} + 19.62 \\rho_{oil}\\right) \\left(\\frac{B}{p r} + 1\\right)^{3.0}} + \\frac{12791.0073038118 d^{2} \\eta^{3} \\nu_{f} \\left(\\nu_{f} + \\nu_{s}\\right)^{2}}{U^{4} \\left(- 19.62 \\rho_{air} + 19.62 \\rho_{oil}\\right) \\left(\\frac{B}{p r} + 1\\right)^{3.0}}}$"
      ],
      "text/plain": [
       "         _____________________________________________________________________\n",
       "        ╱                                                                     \n",
       "       ╱                                                         -5.0         \n",
       "      ╱                         2  2  3               2 ⎛ B     ⎞             \n",
       "     ╱    3.33673331525048e-13⋅B ⋅d ⋅η ⋅ν_f⋅(ν_f + νₛ) ⋅⎜─── + 1⎟       460476\n",
       "    ╱                                                   ⎝p⋅r    ⎠             \n",
       "   ╱      ─────────────────────────────────────────────────────────── + ──────\n",
       "  ╱                    2  2  4                                                \n",
       "╲╱                    U ⋅p ⋅r ⋅(-19.62⋅ρₐᵢᵣ + 19.62⋅ρₒᵢₗ)                     \n",
       "\n",
       "______________________________________________________________________________\n",
       "                                                                              \n",
       "                                             -5.0   ⎛                         \n",
       "            2  2  3               2 ⎛ B     ⎞       ⎜                         \n",
       ".262937225⋅B ⋅d ⋅η ⋅ν_f⋅(ν_f + νₛ) ⋅⎜─── + 1⎟       ⎜9.50017618445553e-5⋅d⋅η⋅ \n",
       "                                    ⎝p⋅r    ⎠       ⎜                        ╲\n",
       "───────────────────────────────────────────────── + ⎜─────────────────────────\n",
       "     2  4  2                                        ⎝                         \n",
       "    U ⋅p ⋅r ⋅(-19.62⋅ρₐᵢᵣ + 19.62⋅ρₒᵢₗ)                                       \n",
       "\n",
       "______________________________________________________________________________\n",
       "                                                                              \n",
       "   __________________________          -1.5                               ____\n",
       "  ╱          η⋅ν_f            ⎛ B     ⎞                                  ╱    \n",
       " ╱  ──────────────────────── ⋅⎜─── + 1⎟       4.75008809222777e-5⋅d⋅η⋅  ╱  ───\n",
       "╱   -19.62⋅ρₐᵢᵣ + 19.62⋅ρₒᵢₗ  ⎝p⋅r    ⎠                               ╲╱   -19\n",
       "─────────────────────────────────────────── + ────────────────────────────────\n",
       "        U                                                                     \n",
       "                                                                              \n",
       "\n",
       "______________________________________________________________________________\n",
       "                                                2                             \n",
       "______________________                     -1.5⎞                              \n",
       "      η⋅ν_f                       ⎛ B     ⎞    ⎟                     2  3     \n",
       "───────────────────── ⋅(ν_f + νₛ)⋅⎜─── + 1⎟    ⎟    1145.1553956136⋅d ⋅η ⋅ν_f⋅\n",
       ".62⋅ρₐᵢᵣ + 19.62⋅ρₒᵢₗ             ⎝p⋅r    ⎠    ⎟                              \n",
       "───────────────────────────────────────────────⎟  + ──────────────────────────\n",
       "     U⋅ν_f                                     ⎠                2             \n",
       "                                                               U ⋅(-19.62⋅ρₐᵢᵣ\n",
       "\n",
       "______________________________________________________________________________\n",
       "                                                                              \n",
       "                     -3.0                                          -3.0       \n",
       "          2 ⎛ B     ⎞                            2  3     ⎛ B     ⎞           \n",
       "(ν_f + νₛ) ⋅⎜─── + 1⎟       7.99437956488238e-8⋅d ⋅η ⋅ν_f⋅⎜─── + 1⎟       9.32\n",
       "            ⎝p⋅r    ⎠                                     ⎝p⋅r    ⎠           \n",
       "───────────────────────── + ─────────────────────────────────────────── + ────\n",
       "              3                     2                                         \n",
       " + 19.62⋅ρₒᵢₗ)                     U ⋅(-19.62⋅ρₐᵢᵣ + 19.62⋅ρₒᵢₗ)              \n",
       "\n",
       "______________________________________________________________________________\n",
       "                                                                              \n",
       "                                               -5.0                           \n",
       "                 2  3               2 ⎛ B     ⎞                             2 \n",
       "464432447881e-6⋅d ⋅η ⋅ν_f⋅(ν_f + νₛ) ⋅⎜─── + 1⎟       9.23606739833787e-15⋅d ⋅\n",
       "                                      ⎝p⋅r    ⎠                               \n",
       "─────────────────────────────────────────────────── + ────────────────────────\n",
       "       2  2  2                                                      2         \n",
       "      U ⋅p ⋅r ⋅(-19.62⋅ρₐᵢᵣ + 19.62⋅ρₒᵢₗ)                          U ⋅(-19.62⋅\n",
       "\n",
       "______________________________________________________________________________\n",
       "                                                                              \n",
       "                           -3.0                                               \n",
       "                2 ⎛ B     ⎞                            3               2 ⎛ B  \n",
       "η⋅ν_f⋅(ν_f + νₛ) ⋅⎜─── + 1⎟       3.19775182595295e-7⋅η ⋅ν_f⋅(ν_f + νₛ) ⋅⎜─── \n",
       "                  ⎝p⋅r    ⎠                                              ⎝p⋅r \n",
       "─────────────────────────────── + ────────────────────────────────────────────\n",
       "                                              2                               \n",
       "ρₐᵢᵣ + 19.62⋅ρₒᵢₗ)                           U ⋅(-19.62⋅ρₐᵢᵣ + 19.62⋅ρₒᵢₗ)    \n",
       "\n",
       "________________________________________________________________\n",
       "                                                                \n",
       "    -3.0                                                   -3.0 \n",
       "   ⎞                         2  3               2 ⎛ B     ⎞     \n",
       "+ 1⎟       12791.0073038118⋅d ⋅η ⋅ν_f⋅(ν_f + νₛ) ⋅⎜─── + 1⎟     \n",
       "   ⎠                                              ⎝p⋅r    ⎠     \n",
       "──────── + ──────────────────────────────────────────────────── \n",
       "                       4                                        \n",
       "                      U ⋅(-19.62⋅ρₐᵢᵣ + 19.62⋅ρₒᵢₗ)             "
      ]
     },
     "metadata": {},
     "output_type": "display_data"
    },
    {
     "name": "stdout",
     "output_type": "stream",
     "text": [
      " \n",
      "Ergebnis: 3.84526201261048E-19 C\n",
      " \n",
      "Fehler: 6.51848614203243E-21 C\n"
     ]
    }
   ],
   "source": [
    "g.gesammte_auswertung(funktion, variables, variable_values, variable_errors, unit=unit)"
   ]
  },
  {
   "cell_type": "code",
   "execution_count": 122,
   "metadata": {},
   "outputs": [
    {
     "data": {
      "image/png": "[encoded data removed]",
      "text/latex": [
       "$\\displaystyle 0.4514809099483488$"
      ],
      "text/plain": [
       "0.4514809099483488"
      ]
     },
     "execution_count": 122,
     "metadata": {},
     "output_type": "execute_result"
    }
   ],
   "source": [
    "7.22369455917358E-20/1.6e-19"
   ]
  },
  {
   "cell_type": "code",
   "execution_count": 96,
   "metadata": {},
   "outputs": [
    {
     "data": {
      "image/png": "[encoded data removed]",
      "text/latex": [
       "$\\displaystyle 44.734447965320506$"
      ],
      "text/plain": [
       "44.734447965320506"
      ]
     },
     "execution_count": 96,
     "metadata": {},
     "output_type": "execute_result"
    }
   ],
   "source": [
    "7.15751167445128E-18/1.6e-19"
   ]
  },
  {
   "cell_type": "markdown",
   "metadata": {},
   "source": [
    "# Multiple of N\n",
    "<hr>"
   ]
  },
  {
   "cell_type": "markdown",
   "metadata": {},
   "source": [
    "### Rohe Daten"
   ]
  },
  {
   "cell_type": "markdown",
   "metadata": {},
   "source": [
    "### Fehlerrechnung"
   ]
  },
  {
   "cell_type": "code",
   "execution_count": 143,
   "metadata": {},
   "outputs": [],
   "source": [
    "variables = [\"e_n\", \"e\"]\n",
    "var_str = \" \".join(variables)\n",
    "exec(\", \".join(variables) + \"= symbols(var_str)\")"
   ]
  },
  {
   "cell_type": "code",
   "execution_count": 144,
   "metadata": {},
   "outputs": [
    {
     "data": {
      "image/png": "[encoded data removed]",
      "text/latex": [
       "$\\displaystyle \\frac{e_{n}}{e}$"
      ],
      "text/plain": [
       "eₙ\n",
       "──\n",
       "e "
      ]
     },
     "metadata": {},
     "output_type": "display_data"
    }
   ],
   "source": [
    "funktion = e_n/e\n",
    "display(funktion)"
   ]
  },
  {
   "cell_type": "code",
   "execution_count": 158,
   "metadata": {},
   "outputs": [],
   "source": [
    "variable_values = [3.84e-19, 1.92e-19]"
   ]
  },
  {
   "cell_type": "code",
   "execution_count": 159,
   "metadata": {},
   "outputs": [],
   "source": [
    "variable_errors = [6.51e-21, 0.035e-19]"
   ]
  },
  {
   "cell_type": "code",
   "execution_count": 160,
   "metadata": {},
   "outputs": [],
   "source": [
    "unit=\"\""
   ]
  },
  {
   "cell_type": "code",
   "execution_count": 161,
   "metadata": {
    "scrolled": true
   },
   "outputs": [
    {
     "name": "stdout",
     "output_type": "stream",
     "text": [
      "############Gaußsche Fehlerfortpflanzung###############\n",
      " \n",
      "Variable: e_n, Wert: 3.84e-19, Fehler: 6.51e-21\n",
      "Variable: e, Wert: 1.92e-19, Fehler: 3.5e-21\n",
      " \n",
      "Funktion:\n"
     ]
    },
    {
     "data": {
      "image/png": "[encoded data removed]",
      "text/latex": [
       "$\\displaystyle \\frac{e_{n}}{e}$"
      ],
      "text/plain": [
       "eₙ\n",
       "──\n",
       "e "
      ]
     },
     "metadata": {},
     "output_type": "display_data"
    },
    {
     "name": "stdout",
     "output_type": "stream",
     "text": [
      "Fehlerfunktion:\n"
     ]
    },
    {
     "data": {
      "image/png": "[encoded data removed]",
      "text/latex": [
       "$\\displaystyle \\sqrt{\\frac{4.23801 \\cdot 10^{-41}}{e^{2}} + \\frac{1.225 \\cdot 10^{-41} e_{n}^{2}}{e^{4}}}$"
      ],
      "text/plain": [
       "      _____________________________\n",
       "     ╱                           2 \n",
       "    ╱  4.23801e-41   1.225e-41⋅eₙ  \n",
       "   ╱   ─────────── + ───────────── \n",
       "  ╱          2              4      \n",
       "╲╱          e              e       "
      ]
     },
     "metadata": {},
     "output_type": "display_data"
    },
    {
     "name": "stdout",
     "output_type": "stream",
     "text": [
      " \n",
      "Ergebnis: 2.00000000000000 \n",
      " \n",
      "Fehler: 0.0497879890988474 \n"
     ]
    }
   ],
   "source": [
    "g.gesammte_auswertung(funktion, variables, variable_values, variable_errors, unit=unit)"
   ]
  },
  {
   "cell_type": "code",
   "execution_count": null,
   "metadata": {},
   "outputs": [],
   "source": []
  }
 ],
 "metadata": {
  "kernelspec": {
   "display_name": "Python 3",
   "language": "python",
   "name": "python3"
  },
  "language_info": {
   "codemirror_mode": {
    "name": "ipython",
    "version": 3
   },
   "file_extension": ".py",
   "mimetype": "text/x-python",
   "name": "python",
   "nbconvert_exporter": "python",
   "pygments_lexer": "ipython3",
   "version": "3.7.3"
  }
 },
 "nbformat": 4,
 "nbformat_minor": 2
}
