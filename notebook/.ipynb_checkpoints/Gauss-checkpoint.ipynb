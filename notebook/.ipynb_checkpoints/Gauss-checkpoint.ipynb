{
 "cells": [
  {
   "cell_type": "code",
   "execution_count": 4,
   "metadata": {},
   "outputs": [],
   "source": [
    "import numpy as np\n",
    "from sympy import *"
   ]
  },
  {
   "cell_type": "markdown",
   "metadata": {},
   "source": [
    "# Gaussche Fehlerfortpflanzung"
   ]
  },
  {
   "cell_type": "code",
   "execution_count": 5,
   "metadata": {},
   "outputs": [],
   "source": [
    "def gauss(func, var, err):\n",
    "    ableitungen = np.asarray([j * func.diff(i) for i, j in zip(var, err)])\n",
    "    squared = ableitungen ** 2\n",
    "    return sqrt(np.sum(squared))"
   ]
  },
  {
   "cell_type": "code",
   "execution_count": 38,
   "metadata": {},
   "outputs": [],
   "source": [
    "def gesammte_auswertung(func, var, val, error):\n",
    "    print(\"############Gaußsche Fehlerfortpflanzung###############\")\n",
    "    print(\" \")\n",
    "    for i in zip(var, val, error):\n",
    "        print(\"Variable: {}, Wert: {}, Fehler: {}\".format(*i))\n",
    "    print(\" \")\n",
    "    print(\"Funktion: {}\".format(func))\n",
    "    fehlerfunc = gauss(func, var, error)\n",
    "    print(\"Fehlerfunktion: {}\".format(fehlerfunc))\n",
    "    print(\" \")\n",
    "    print(\"Ergebnis: {}\".format(func.subs(zip(var, val))))\n",
    "    print(\" \")\n",
    "    print(\"Fehler: {}\".format(fehlerfunc.subs(zip(var, val))))"
   ]
  },
  {
   "cell_type": "markdown",
   "metadata": {},
   "source": [
    "## Definition der Auszuwertenden Dinge"
   ]
  },
  {
   "cell_type": "markdown",
   "metadata": {},
   "source": [
    "### Definition von Konstanten und Variablen"
   ]
  },
  {
   "cell_type": "code",
   "execution_count": 9,
   "metadata": {},
   "outputs": [],
   "source": [
    "constants = [\"a\", \"b\", \"c\"]       # nicht unbedingt nötig die dinge zu trennen, allerdings schien es mir schön\n",
    "variables = [\"rho\", \"v\", \"nu_f\"]  # gemessene und irgendwie gegebene/bestimmte dinge zu trennen"
   ]
  },
  {
   "cell_type": "code",
   "execution_count": 10,
   "metadata": {},
   "outputs": [],
   "source": [
    "if len(constants):\n",
    "    const_str = \" \".join(constants)\n",
    "    exec(\", \".join(constants) + \"= symbols(const_str)\")\n",
    "if len(variables):\n",
    "    var_str = \" \".join(variables)\n",
    "    exec(\", \".join(variables) + \"= symbols(var_str)\")"
   ]
  },
  {
   "cell_type": "markdown",
   "metadata": {},
   "source": [
    "### Definition von Funktion"
   ]
  },
  {
   "cell_type": "code",
   "execution_count": 13,
   "metadata": {},
   "outputs": [
    {
     "data": {
      "text/latex": [
       "$\\displaystyle \\frac{a v}{4} + \\frac{b^{2} \\rho^{2}}{4} + \\frac{c}{4} + \\frac{\\nu_{f}^{3}}{4}$"
      ],
      "text/plain": [
       "a*v/4 + b**2*rho**2/4 + c/4 + nu_f**3/4"
      ]
     },
     "execution_count": 13,
     "metadata": {},
     "output_type": "execute_result"
    }
   ],
   "source": [
    "funktion = (a*v + rho**2 * b**2 + c + nu_f ** 3) / 4\n",
    "funktion"
   ]
  },
  {
   "cell_type": "markdown",
   "metadata": {},
   "source": [
    "## Konstanten, Messwerte und Fehler"
   ]
  },
  {
   "cell_type": "code",
   "execution_count": 25,
   "metadata": {},
   "outputs": [],
   "source": [
    "#Werte wie sie gemessen oder gegeben sind, in der Reihenfolge wie sie oben definiert wurden.\n",
    "constant_values = [1,2,3]\n",
    "variable_values = [0.3,6,1.2]\n",
    "#Fehler wie sie bestimmt oder gegeben sind, in der Reihenfolge, wie sie oben definiert wurden.\n",
    "constant_errors = [0.4,0.3,0.2]\n",
    "variable_errors = [1,1,1]"
   ]
  },
  {
   "cell_type": "markdown",
   "metadata": {},
   "source": [
    "## Berechnung von Ergebenissen"
   ]
  },
  {
   "cell_type": "code",
   "execution_count": 44,
   "metadata": {},
   "outputs": [],
   "source": [
    "fehlerformel = gauss(funktion, constants + variables, constant_errors + variable_errors)"
   ]
  },
  {
   "cell_type": "markdown",
   "metadata": {},
   "source": [
    "### Eingegebene Formel"
   ]
  },
  {
   "cell_type": "code",
   "execution_count": 45,
   "metadata": {},
   "outputs": [
    {
     "data": {
      "text/latex": [
       "$\\displaystyle \\frac{a v}{4} + \\frac{b^{2} \\rho^{2}}{4} + \\frac{c}{4} + \\frac{\\nu_{f}^{3}}{4}$"
      ],
      "text/plain": [
       "a*v/4 + b**2*rho**2/4 + c/4 + nu_f**3/4"
      ]
     },
     "execution_count": 45,
     "metadata": {},
     "output_type": "execute_result"
    }
   ],
   "source": [
    "funktion"
   ]
  },
  {
   "cell_type": "markdown",
   "metadata": {},
   "source": [
    "Ergebnis durch einsetzen."
   ]
  },
  {
   "cell_type": "code",
   "execution_count": 46,
   "metadata": {},
   "outputs": [
    {
     "data": {
      "text/latex": [
       "$\\displaystyle 2.772$"
      ],
      "text/plain": [
       "2.77200000000000"
      ]
     },
     "execution_count": 46,
     "metadata": {},
     "output_type": "execute_result"
    }
   ],
   "source": [
    "funktion.subs(zip(constants + variables, constant_values + variable_values))"
   ]
  },
  {
   "cell_type": "markdown",
   "metadata": {},
   "source": [
    "### Fehlerfortpflanzung"
   ]
  },
  {
   "cell_type": "code",
   "execution_count": 47,
   "metadata": {},
   "outputs": [
    {
     "data": {
      "text/latex": [
       "$\\displaystyle \\sqrt{\\frac{a^{2}}{16} + \\frac{b^{4} \\rho^{2}}{4} + 0.0225 b^{2} \\rho^{4} + \\frac{9 \\nu_{f}^{4}}{16} + 0.01 v^{2} + 0.0025}$"
      ],
      "text/plain": [
       "sqrt(a**2/16 + b**4*rho**2/4 + 0.0225*b**2*rho**4 + 9*nu_f**4/16 + 0.01*v**2 + 0.0025)"
      ]
     },
     "execution_count": 47,
     "metadata": {},
     "output_type": "execute_result"
    }
   ],
   "source": [
    "fehlerformel"
   ]
  },
  {
   "cell_type": "markdown",
   "metadata": {},
   "source": [
    "Ergebnis durch einsetzen."
   ]
  },
  {
   "cell_type": "code",
   "execution_count": 48,
   "metadata": {},
   "outputs": [
    {
     "data": {
      "text/latex": [
       "$\\displaystyle 1.39718610070384$"
      ],
      "text/plain": [
       "1.39718610070384"
      ]
     },
     "execution_count": 48,
     "metadata": {},
     "output_type": "execute_result"
    }
   ],
   "source": [
    "fehlerformel.subs(zip(constants + variables, constant_values + variable_values))"
   ]
  },
  {
   "cell_type": "code",
   "execution_count": 40,
   "metadata": {},
   "outputs": [
    {
     "name": "stdout",
     "output_type": "stream",
     "text": [
      "############Gaußsche Fehlerfortpflanzung###############\n",
      " \n",
      "Variable: a, Wert: 1, Fehler: 0.4\n",
      "Variable: b, Wert: 2, Fehler: 0.3\n",
      "Variable: c, Wert: 3, Fehler: 0.2\n",
      "Variable: rho, Wert: 0.3, Fehler: 1\n",
      "Variable: v, Wert: 6, Fehler: 1\n",
      "Variable: nu_f, Wert: 1.2, Fehler: 1\n",
      " \n",
      "Funktion: a*v/4 + b**2*rho**2/4 + c/4 + nu_f**3/4\n",
      "Fehlerfunktion: sqrt(a**2/16 + b**4*rho**2/4 + 0.0225*b**2*rho**4 + 9*nu_f**4/16 + 0.01*v**2 + 0.0025)\n",
      " \n",
      "Ergebnis: 2.77200000000000\n",
      " \n",
      "Fehler: 1.39718610070384\n"
     ]
    }
   ],
   "source": [
    "gesammte_auswertung(funktion, constants + variables, constant_values + variable_values, constant_errors + variable_errors)"
   ]
  }
 ],
 "metadata": {
  "kernelspec": {
   "display_name": "Python 3",
   "language": "python",
   "name": "python3"
  },
  "language_info": {
   "codemirror_mode": {
    "name": "ipython",
    "version": 3
   },
   "file_extension": ".py",
   "mimetype": "text/x-python",
   "name": "python",
   "nbconvert_exporter": "python",
   "pygments_lexer": "ipython3",
   "version": "3.7.3"
  }
 },
 "nbformat": 4,
 "nbformat_minor": 2
}
